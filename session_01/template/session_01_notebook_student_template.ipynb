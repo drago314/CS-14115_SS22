{
 "cells": [
  {
   "cell_type": "markdown",
   "metadata": {},
   "source": [
    "<div style='background: #FF7B47; padding: 10px; border: thin solid darblue; border-radius: 5px; margin-bottom: 2vh'>\n",
    "    \n",
    "# Session 01 - Notebook\n",
    "\n",
    "Like most session notebooks in this course, this notebook is divided into two parts. Part one is a 'manual' that will allow you to code along with the new code that we introduce at the beginning of each session. The second part is the actual lab/assignment part, where you will work through a few practical tasks and write small but useful programs."
   ]
  },
  {
   "cell_type": "markdown",
   "metadata": {},
   "source": [
    "<div style='background: #FF7B47; padding: 10px; border: thin solid darblue; border-radius: 5px'>\n",
    "    \n",
    "## Part 1 -  Manual"
   ]
  },
  {
   "cell_type": "markdown",
   "metadata": {},
   "source": [
    "<div style='background: lightsalmon; padding: 10px; border: thin solid darblue; border-radius: 5px'>\n",
    "A.1 - \"hello, world!\""
   ]
  },
  {
   "cell_type": "code",
   "execution_count": 12,
   "metadata": {},
   "outputs": [
    {
     "name": "stdout",
     "output_type": "stream",
     "text": [
      "hello, world!\n"
     ]
    }
   ],
   "source": [
    "print(\"hello, world!\")"
   ]
  },
  {
   "cell_type": "markdown",
   "metadata": {},
   "source": [
    "<div style='background: lightsalmon; padding: 10px; border: thin solid darblue; border-radius: 5px'>\n",
    "A.2 - basic datatypes - strings and numeric variables"
   ]
  },
  {
   "cell_type": "code",
   "execution_count": 13,
   "metadata": {},
   "outputs": [
    {
     "name": "stdout",
     "output_type": "stream",
     "text": [
      "Hello, world! Hello, world!\n",
      "Hello, world!\n"
     ]
    }
   ],
   "source": [
    "hello = 'Hello, world!'\n",
    "print(hello, hello)\n",
    "print(hello)"
   ]
  },
  {
   "cell_type": "markdown",
   "metadata": {},
   "source": [
    "<div style='background: lightsalmon; padding: 10px; border: thin solid darblue; border-radius: 5px'>\n",
    "A.3 - basic operations"
   ]
  },
  {
   "cell_type": "code",
   "execution_count": 2,
   "metadata": {},
   "outputs": [
    {
     "name": "stdout",
     "output_type": "stream",
     "text": [
      "2\n",
      "4\n",
      "0\n",
      "6\n",
      "1.0\n",
      "4\n"
     ]
    }
   ],
   "source": [
    "number = 2\n",
    "print(number)\n",
    "\n",
    "# output: >> 2\n",
    "\n",
    "print(number+number)\n",
    "print(number-number) \n",
    "print(number*3)\n",
    "print(number/2)\n",
    "print(number**2)"
   ]
  },
  {
   "cell_type": "markdown",
   "metadata": {},
   "source": [
    "<div style='background: lightsalmon; padding: 10px; border: thin solid darblue; border-radius: 5px'>\n",
    "A.4 - advanced data types to store collections of data"
   ]
  },
  {
   "cell_type": "code",
   "execution_count": null,
   "metadata": {},
   "outputs": [],
   "source": [
    "# your code here - lists\n"
   ]
  },
  {
   "cell_type": "code",
   "execution_count": null,
   "metadata": {},
   "outputs": [],
   "source": [
    "# your code here - dictionaries"
   ]
  },
  {
   "cell_type": "markdown",
   "metadata": {},
   "source": [
    "<div style='background: lightsalmon; padding: 10px; border: thin solid darblue; border-radius: 5px'>\n",
    "A.5 - for loops"
   ]
  },
  {
   "cell_type": "code",
   "execution_count": null,
   "metadata": {},
   "outputs": [],
   "source": [
    "# your code here"
   ]
  },
  {
   "cell_type": "markdown",
   "metadata": {},
   "source": [
    "<div style='background: lightsalmon; padding: 10px; border: thin solid darblue; border-radius: 5px'>\n",
    "A.6 - Python If ... Else"
   ]
  },
  {
   "cell_type": "code",
   "execution_count": null,
   "metadata": {},
   "outputs": [],
   "source": [
    "# your code here"
   ]
  },
  {
   "cell_type": "markdown",
   "metadata": {},
   "source": [
    "<div style='background: lightsalmon; padding: 10px; border: thin solid darblue; border-radius: 5px'>\n",
    "A.6 - Functions"
   ]
  },
  {
   "cell_type": "code",
   "execution_count": null,
   "metadata": {},
   "outputs": [],
   "source": [
    "# Your code here"
   ]
  },
  {
   "cell_type": "markdown",
   "metadata": {},
   "source": [
    "<div style='background: #6A9EB4; padding: 10px; border: thin solid darblue; border-radius: 5px'>\n",
    "\n",
    "## Part 2 - Lab\n",
    "    \n",
    "During today's lab you will write code that will help the College to perform the house lottery more efficiently and assist the house administrations in a variety of tasks."
   ]
  },
  {
   "cell_type": "markdown",
   "metadata": {},
   "source": [
    "<div style='background: #ADCAD6; padding: 10px; border: thin solid darblue; border-radius: 5px'>\n",
    "\n",
    "## Task #1 - automatize the house lottery\n",
    "\n",
    "In the precirculated template folder, you will find the file students.csv with all rising sophomores that will enter the house lottery, i.e. they will get assigned to one of the twelve undergraduate houses. So far, the college has done this task manually but they hope that you can help them to automtize that process. Please load the csv and add another column 'house_id'. Pyhton's csv package will come in handy to load the csv file and treat each row as a list. Having loaded the file, add a random house id to each student and save that information in a new csv file. You might find the python package 'random' quite useful to automatize the lottery process. We've imported the package for you and provided an example.\n"
   ]
  },
  {
   "cell_type": "markdown",
   "metadata": {},
   "source": [
    "<div style='background: #ADCAD6; padding: 10px; border: thin solid darblue; border-radius: 5px'>\n",
    "Examples and precirculated code:"
   ]
  },
  {
   "cell_type": "code",
   "execution_count": 36,
   "metadata": {},
   "outputs": [],
   "source": [
    "# house ids lookup tables\n",
    "\n",
    "house_to_id = {\n",
    "    'Adams-House': 0,\n",
    "    'Cabot-House': 1,\n",
    "    'Currier-House' : 2,\n",
    "    'Dunster-House': 3,\n",
    "    'Eliot-House': 4,\n",
    "    'Kirkland-House': 5,\n",
    "    'Leverett-House': 6,\n",
    "    'Lowell-House': 7,\n",
    "    'Mather-House': 8,\n",
    "    'Pforzheimer-House':9,\n",
    "    'Quincy-House': 10,\n",
    "    'Winthrop-House': 11\n",
    "}\n",
    "\n",
    "id_to_house = {\n",
    "    0: 'Adams-House',\n",
    "    1: 'Cabot-House',\n",
    "    2: 'Currier-House',\n",
    "    3: 'Dunster-House',\n",
    "    4: 'Eliot-House',\n",
    "    5: 'Kirkland-House',\n",
    "    6: 'Leverett-House',\n",
    "    7: 'Lowell-House',\n",
    "    8: 'Mather-House',\n",
    "    9: 'Pforzheimer-House',\n",
    "    10: 'Quincy-House',\n",
    "    11: 'Winthrop-House'\n",
    "}"
   ]
  },
  {
   "cell_type": "code",
   "execution_count": null,
   "metadata": {},
   "outputs": [],
   "source": [
    "# importing useful python packages\n",
    "import random\n",
    "import csv"
   ]
  },
  {
   "cell_type": "code",
   "execution_count": 15,
   "metadata": {},
   "outputs": [
    {
     "name": "stdout",
     "output_type": "stream",
     "text": [
      "['Oona', 'Swigart', '16076420', 'Oona.Swigart@college.harvard.edu']\n"
     ]
    }
   ],
   "source": [
    "# some example code snippets how to load a csv file and how to write into one\n",
    "# importing useful python packages\n",
    "import random\n",
    "import csv\n",
    "# read\n",
    "file_read = open(\"data/students.csv\", \"r\")\n",
    "reader = csv.reader(file_read)\n",
    "\n",
    "for row in reader:\n",
    "    print(row)\n",
    "    break # breaking after first element feel free to check out the entire data stucture\n",
    "    \n",
    "file_read.close()\n",
    "\n",
    "# write - notice that the file doesn't have to exist beforehand! csv write will create the file automatically, which is very useful!\n",
    "file_write = open('students_with_house.csv', 'w', newline='')\n",
    "\n",
    "writer = csv.writer(file_write)\n",
    "\n",
    "# we just write one row here. It might be useful to put this line into a loop when automatizing things\n",
    "writer.writerow(['first_name', 'last_name', 'HUID','email', 'house_id'])\n",
    "\n",
    "writer.writerow(['first_name2', 'last_name', 'HUID','email', 'house_id'])\n",
    "\n",
    "file_write.close()\n",
    "\n"
   ]
  },
  {
   "cell_type": "code",
   "execution_count": null,
   "metadata": {},
   "outputs": [],
   "source": [
    "# example - generate a random integer between 1 and 10.\n",
    "example_random = random.randint(1,10)\n",
    "print(example_random)"
   ]
  },
  {
   "cell_type": "markdown",
   "metadata": {},
   "source": [
    "<div style='background: #ADCAD6; padding: 10px; border: thin solid darblue; border-radius: 5px'>\n",
    "Your turn - load the csv file, create a random number for each student between 0-11 and store all students in a new csv file with their respective house assignments. A for loop might come in handy."
   ]
  },
  {
   "cell_type": "code",
   "execution_count": 83,
   "metadata": {},
   "outputs": [],
   "source": [
    "import random\n",
    "import csv\n",
    "\n",
    "with open(\"data/students.csv\", \"r\") as file_read, open(\"data/students_with_house.csv\", \"w\", newline='') as file_write:\n",
    "    reader = csv.reader(file_read)\n",
    "    writer = csv.writer(file_write)\n",
    "\n",
    "    for row in reader:\n",
    "        r = random.randint(0, 11)\n",
    "        row.append(r)\n",
    "        writer.writerow(row)\n",
    "    "
   ]
  },
  {
   "cell_type": "markdown",
   "metadata": {},
   "source": [
    "<div style='background: #ADCAD6; padding: 10px; border: thin solid darblue; border-radius: 5px'>\n",
    "Write a small program that makes sure that you've successfully created and populated a csv with all students and their assigned houses."
   ]
  },
  {
   "cell_type": "code",
   "execution_count": 73,
   "metadata": {
    "scrolled": true
   },
   "outputs": [
    {
     "name": "stdout",
     "output_type": "stream",
     "text": [
      "['Oona', 'Swigart', '16076420', 'Oona.Swigart@college.harvard.edu', '4']\n",
      "['Hope', 'Quent', '16435294', 'Hope.Quent@college.harvard.edu', '8']\n",
      "['Fayre', 'Vorster', '11185066', 'Fayre.Vorster@college.harvard.edu', '4']\n",
      "['Priscilla', 'Geffner', '14666772', 'Priscilla.Geffner@college.harvard.edu', '2']\n",
      "['Madeleine', 'Stilwell', '13502774', 'Madeleine.Stilwell@college.harvard.edu', '8']\n",
      "['Deirdre', 'Khorma', '11100518', 'Deirdre.Khorma@college.harvard.edu', '3']\n",
      "['Anthia', 'Blase', '14657089', 'Anthia.Blase@college.harvard.edu', '8']\n",
      "['Diena', 'Shama', '13777228', 'Diena.Shama@college.harvard.edu', '6']\n",
      "['Cristabel', 'Audly', '19191289', 'Cristabel.Audly@college.harvard.edu', '10']\n",
      "['Misha', 'Tybald', '15474105', 'Misha.Tybald@college.harvard.edu', '2']\n",
      "['Carly', 'Haymes', '10825876', 'Carly.Haymes@college.harvard.edu', '11']\n",
      "['Chloris', 'Shaddock', '14456015', 'Chloris.Shaddock@college.harvard.edu', '8']\n",
      "['Evita', 'Whittaker', '16942112', 'Evita.Whittaker@college.harvard.edu', '0']\n",
      "['Fina', 'Zetta', '17941504', 'Fina.Zetta@college.harvard.edu', '4']\n",
      "['Carolina', 'Ummersen', '12399079', 'Carolina.Ummersen@college.harvard.edu', '3']\n",
      "['Roberta', 'Ingra', '11936833', 'Roberta.Ingra@college.harvard.edu', '10']\n",
      "['Moyna', 'Dorothy', '12556187', 'Moyna.Dorothy@college.harvard.edu', '3']\n",
      "['Zondra', 'Cadmar', '12486497', 'Zondra.Cadmar@college.harvard.edu', '0']\n",
      "['Gusty', 'Merat', '11280490', 'Gusty.Merat@college.harvard.edu', '10']\n",
      "['Bertine', 'Merell', '19533403', 'Bertine.Merell@college.harvard.edu', '0']\n",
      "['Pierette', 'Hutchison', '16577108', 'Pierette.Hutchison@college.harvard.edu', '11']\n",
      "['Sue', 'Oneida', '16223298', 'Sue.Oneida@college.harvard.edu', '4']\n",
      "['Gale', 'Hermes', '10553554', 'Gale.Hermes@college.harvard.edu', '2']\n",
      "['Inga', 'Bow', '15657083', 'Inga.Bow@college.harvard.edu', '9']\n",
      "['Jaclyn', 'Flita', '18705071', 'Jaclyn.Flita@college.harvard.edu', '6']\n",
      "['Bernardine', 'Sophronia', '16311101', 'Bernardine.Sophronia@college.harvard.edu', '3']\n",
      "['Chrystel', 'Borrell', '16164885', 'Chrystel.Borrell@college.harvard.edu', '5']\n",
      "['Larine', 'Paton', '14731172', 'Larine.Paton@college.harvard.edu', '1']\n",
      "['Phedra', 'Lia', '11868072', 'Phedra.Lia@college.harvard.edu', '8']\n",
      "['Melanie', 'Merna', '17144995', 'Melanie.Merna@college.harvard.edu', '6']\n",
      "['Emmey', 'Boehike', '19456940', 'Emmey.Boehike@college.harvard.edu', '5']\n",
      "['Alejandra', 'Ehrman', '16185753', 'Alejandra.Ehrman@college.harvard.edu', '1']\n",
      "['Yetty', 'Monaco', '14071918', 'Yetty.Monaco@college.harvard.edu', '6']\n",
      "['Deirdre', 'Ioab', '11777577', 'Deirdre.Ioab@college.harvard.edu', '4']\n",
      "['Catrina', 'Persse', '14686761', 'Catrina.Persse@college.harvard.edu', '4']\n",
      "['Heida', 'Izaak', '13942697', 'Heida.Izaak@college.harvard.edu', '3']\n",
      "['Sharai', 'Meli', '16097823', 'Sharai.Meli@college.harvard.edu', '2']\n",
      "['Aryn', 'Hanleigh', '19408239', 'Aryn.Hanleigh@college.harvard.edu', '10']\n",
      "['Melina', 'Elsinore', '13761016', 'Melina.Elsinore@college.harvard.edu', '10']\n",
      "['Elyssa', 'Wu', '12316153', 'Elyssa.Wu@college.harvard.edu', '1']\n",
      "['Penelopa', 'Harned', '16443115', 'Penelopa.Harned@college.harvard.edu', '10']\n",
      "['Rozele', 'Wilkinson', '15118764', 'Rozele.Wilkinson@college.harvard.edu', '1']\n",
      "['Melina', 'Jethro', '15840321', 'Melina.Jethro@college.harvard.edu', '8']\n",
      "['Jordan', 'Gilmour', '10076614', 'Jordan.Gilmour@college.harvard.edu', '4']\n",
      "['Ethel', 'Hartnett', '11383680', 'Ethel.Hartnett@college.harvard.edu', '2']\n",
      "['Collen', 'Garek', '17585948', 'Collen.Garek@college.harvard.edu', '1']\n",
      "['Jenilee', 'Vastah', '11949445', 'Jenilee.Vastah@college.harvard.edu', '0']\n",
      "['Fredericka', 'Lane', '12958619', 'Fredericka.Lane@college.harvard.edu', '11']\n",
      "['Asia', 'Demitria', '19103295', 'Asia.Demitria@college.harvard.edu', '8']\n",
      "['Ana', 'Scammon', '10701460', 'Ana.Scammon@college.harvard.edu', '0']\n",
      "['Wynne', 'Baylor', '12487005', 'Wynne.Baylor@college.harvard.edu', '3']\n",
      "['Alexine', 'Ackerley', '14493600', 'Alexine.Ackerley@college.harvard.edu', '1']\n",
      "['Fina', 'Himelman', '16919718', 'Fina.Himelman@college.harvard.edu', '11']\n",
      "['Beth', 'Roxanna', '13130130', 'Beth.Roxanna@college.harvard.edu', '2']\n",
      "['Maud', 'Thema', '19209764', 'Maud.Thema@college.harvard.edu', '2']\n",
      "['Myriam', 'Jerold', '11845800', 'Myriam.Jerold@college.harvard.edu', '2']\n",
      "['Kaia', 'Cavan', '19395700', 'Kaia.Cavan@college.harvard.edu', '0']\n",
      "['Mathilda', 'Urania', '19811224', 'Mathilda.Urania@college.harvard.edu', '5']\n",
      "['Merci', 'Louanna', '14261672', 'Merci.Louanna@college.harvard.edu', '3']\n",
      "['Marti', 'Alva', '15373184', 'Marti.Alva@college.harvard.edu', '6']\n",
      "['Keelia', 'Ricki', '11961947', 'Keelia.Ricki@college.harvard.edu', '3']\n",
      "['Lauryn', 'Tamsky', '14140421', 'Lauryn.Tamsky@college.harvard.edu', '11']\n",
      "['Fidelia', 'Cherianne', '14073512', 'Fidelia.Cherianne@college.harvard.edu', '5']\n",
      "['Emylee', 'Emmaline', '17140291', 'Emylee.Emmaline@college.harvard.edu', '3']\n",
      "['Eve', 'Guthrie', '14490284', 'Eve.Guthrie@college.harvard.edu', '5']\n",
      "['Carmencita', 'Drisko', '17368711', 'Carmencita.Drisko@college.harvard.edu', '6']\n",
      "['Nanete', 'Kenwood', '13603325', 'Nanete.Kenwood@college.harvard.edu', '1']\n",
      "['Maridel', 'Madaih', '10107444', 'Maridel.Madaih@college.harvard.edu', '3']\n",
      "['Gerianna', 'Maples', '11245424', 'Gerianna.Maples@college.harvard.edu', '4']\n",
      "['Mariele', 'Sawtelle', '17643066', 'Mariele.Sawtelle@college.harvard.edu', '1']\n",
      "['Winny', 'Markman', '12461674', 'Winny.Markman@college.harvard.edu', '6']\n",
      "['Isa', 'Suanne', '10263083', 'Isa.Suanne@college.harvard.edu', '10']\n",
      "['Barbara', 'Love', '13075253', 'Barbara.Love@college.harvard.edu', '6']\n",
      "['Ronna', 'Loring', '12850713', 'Ronna.Loring@college.harvard.edu', '1']\n",
      "['Jeanna', 'Isidore', '16935372', 'Jeanna.Isidore@college.harvard.edu', '6']\n",
      "['Kary', 'Kamaria', '18903342', 'Kary.Kamaria@college.harvard.edu', '4']\n",
      "['Ann-Marie', 'Sherrie', '13813311', 'Ann-Marie.Sherrie@college.harvard.edu', '7']\n",
      "['Lolita', 'Harday', '18802346', 'Lolita.Harday@college.harvard.edu', '2']\n",
      "['Dorene', 'Jalbert', '17402190', 'Dorene.Jalbert@college.harvard.edu', '10']\n",
      "['Lanae', 'Nore', '12433872', 'Lanae.Nore@college.harvard.edu', '0']\n",
      "['Mureil', 'McLaughlin', '16406290', 'Mureil.McLaughlin@college.harvard.edu', '5']\n",
      "['Barbi', 'Fabiola', '17888309', 'Barbi.Fabiola@college.harvard.edu', '7']\n",
      "['Valera', 'Pandolfi', '15509054', 'Valera.Pandolfi@college.harvard.edu', '7']\n",
      "['Jennica', 'Kiersten', '15651397', 'Jennica.Kiersten@college.harvard.edu', '3']\n",
      "['Cyb', 'Rurik', '10785022', 'Cyb.Rurik@college.harvard.edu', '6']\n",
      "['Celestyna', 'Annice', '16236203', 'Celestyna.Annice@college.harvard.edu', '7']\n",
      "['Robinia', 'Shirberg', '15304763', 'Robinia.Shirberg@college.harvard.edu', '8']\n",
      "['Carol-Jean', 'Elsinore', '13442638', 'Carol-Jean.Elsinore@college.harvard.edu', '11']\n",
      "['Averyl', 'Dorine', '18551575', 'Averyl.Dorine@college.harvard.edu', '9']\n",
      "['Anestassia', 'Hathaway', '19894017', 'Anestassia.Hathaway@college.harvard.edu', '0']\n",
      "['Luci', 'Dulciana', '17658485', 'Luci.Dulciana@college.harvard.edu', '10']\n",
      "['Jenda', 'Diann', '15279072', 'Jenda.Diann@college.harvard.edu', '9']\n",
      "['Patricia', 'Schalles', '11917293', 'Patricia.Schalles@college.harvard.edu', '1']\n",
      "['Bibby', 'Toor', '12441773', 'Bibby.Toor@college.harvard.edu', '1']\n",
      "['Devina', 'Holtz', '14874114', 'Devina.Holtz@college.harvard.edu', '4']\n",
      "['Zia', 'Jillane', '11583059', 'Zia.Jillane@college.harvard.edu', '8']\n",
      "['Gertrud', 'Abbot', '18844206', 'Gertrud.Abbot@college.harvard.edu', '4']\n",
      "['Judy', 'Kiersten', '14471867', 'Judy.Kiersten@college.harvard.edu', '7']\n",
      "['Yolane', 'Thomasina', '13353635', 'Yolane.Thomasina@college.harvard.edu', '10']\n",
      "['Morganica', 'Atcliffe', '18171957', 'Morganica.Atcliffe@college.harvard.edu', '6']\n"
     ]
    }
   ],
   "source": [
    "# your code here\n",
    "import csv\n",
    "\n",
    "with open(\"data/students_with_house.csv\", 'r') as file_read:\n",
    "    reader = csv.reader(file_read)\n",
    "    \n",
    "    for i, row in enumerate(reader):\n",
    "        if i < 100:\n",
    "            print(row)"
   ]
  },
  {
   "cell_type": "markdown",
   "metadata": {},
   "source": [
    "<div style='background: #ADCAD6; padding: 10px; border: thin solid darblue; border-radius: 5px'>\n",
    "\n",
    "## Task #2 - generate a file for a house on demand\n",
    "\n",
    "OK, you've helped the college out with the lottery but now the house administrators are struggling a bit because they have all 2000 students in one file but only care about the students that were assigned to their particular house. Write a small programm that solves that task on demand and generates a csv for them with only their students. You can write a program that does this task on demand for a given house, or you can generate a csv for each house in advance.\n"
   ]
  },
  {
   "cell_type": "code",
   "execution_count": 74,
   "metadata": {},
   "outputs": [],
   "source": [
    "# your code here\n",
    "import csv\n",
    "\n",
    "def createHouseCSV(id, houseName):\n",
    "    with open(\"data/students_with_house.csv\", 'r') as file_read, open(\"data/\" + id_to_house[id] + \".csv\", \"w\", newline='') as file_write:\n",
    "        reader = csv.reader(file_read)\n",
    "        writer = csv.writer(file_write)\n",
    "        for row in reader:\n",
    "            if int(row[4]) == int(id):\n",
    "                writer.writerow(row)\n",
    "\n",
    "for id in id_to_house:\n",
    "    createHouseCSV(id, id_to_house[id])"
   ]
  },
  {
   "cell_type": "markdown",
   "metadata": {},
   "source": [
    "<div style='background: #CBE0A4; padding: 10px; border: thin solid darblue; border-radius: 5px'>\n",
    "\n",
    "## Bonus Tasks\n",
    "    \n",
    "1. calculate vacant rooms per house\n",
    "2. write a program that computes the number of students assigned per house in a given csv\n",
    "3. write a function that checks whether there are problems with the numbers of students assigned to each house\n",
    "4. write code that assigns students randomly but in such a way that there are no capacity issues."
   ]
  },
  {
   "cell_type": "markdown",
   "metadata": {},
   "source": [
    "<div style='background: #CBE0A4; padding: 10px; border: thin solid darblue; border-radius: 5px'>\n",
    "Some house administrators have complaned that the list of students is too long to accomodate all new sophomores assigned to their houses. Since some houses are bigger and others are smaller, we cannot simply generate integers and get away with the randomly generated number of students in each house. Rather, we have to check more carefolly whether there is still capacity. Below, find two useful dictionaries hat should help you to solve this task."
   ]
  },
  {
   "cell_type": "code",
   "execution_count": 87,
   "metadata": {},
   "outputs": [],
   "source": [
    "# bonus is house with exact capacities\n",
    "\n",
    "house_capacity = {\n",
    "    'Adams-House': 411,\n",
    "    'Cabot-House': 362,\n",
    "    'Currier-House' : 356,\n",
    "    'Dunster-House': 428,\n",
    "    'Eliot-House': 450,\n",
    "    'Kirkland-House': 400,\n",
    "    'Leverett-House': 480,\n",
    "    'Lowell-House': 450,\n",
    "    'Mather-House': 426,\n",
    "    'Pforzheimer-House':360,\n",
    "    'Quincy-House': 420,\n",
    "    'Winthrop-House': 500\n",
    "}\n",
    "\n",
    "# number of occupied rooms after seniors have left\n",
    "house_occupied = {\n",
    "    'Adams-House': 236,\n",
    "    'Cabot-House': 213,\n",
    "    'Currier-House' : 217,\n",
    "    'Dunster-House': 296,\n",
    "    'Eliot-House': 288,\n",
    "    'Kirkland-House': 224,\n",
    "    'Leverett-House': 233,\n",
    "    'Lowell-House': 242,\n",
    "    'Mather-House': 217,\n",
    "    'Pforzheimer-House':195,\n",
    "    'Quincy-House': 253,\n",
    "    'Winthrop-House': 310\n",
    "}\n",
    "\n",
    "#1. create dict for vacancy in a house\n",
    "house_vacancy = {}\n",
    "\n",
    "for house in house_capacity:\n",
    "    house_vacancy[house] = house_capacity[house] - house_occupied[house] \n",
    "\n",
    "#2. find number of students assigned to a house\n",
    "def amountInHouse(houseId):\n",
    "    count = 0\n",
    "        \n",
    "    with open(\"data/students_with_house.csv\", 'r') as file_read:\n",
    "        reader = csv.reader(file_read)\n",
    "        for row in reader:\n",
    "            if int(row[4]) == int(houseId):\n",
    "                count += 1\n",
    "    return count\n",
    "\n",
    "#3. Check if there is enough vacancy\n",
    "for house in house_vacancy:\n",
    "    if amountInHouse(house_to_id[house]) > house_vacancy[house]:\n",
    "        print(f\"{house} has {amountInHouse(house_to_id[house])} students, which is over the vacancy of {house_vacancy[house]}\")\n",
    "        "
   ]
  },
  {
   "cell_type": "code",
   "execution_count": 86,
   "metadata": {},
   "outputs": [],
   "source": [
    "#4. Assign Students without going over capacity\n",
    "housesWithVacancy = [0,1,2,3,4,5,6,7,8,9,10,11]\n",
    "\n",
    "\n",
    "with open(\"data/students.csv\", \"r\") as file_read, open(\"data/students_with_house.csv\", \"w\", newline='') as file_write:\n",
    "    reader = csv.reader(file_read)\n",
    "    writer = csv.writer(file_write)\n",
    "\n",
    "    for row in reader:\n",
    "        r = random.choice(housesWithVacancy)\n",
    "        house_vacancy[id_to_house[r]] -= 1\n",
    "        if house_vacancy[id_to_house[r]] == 0:\n",
    "            housesWithVacancy.remove(r)\n",
    "        if (len(housesWithVacancy) == 0):\n",
    "            print(\"Not Enough Space\")\n",
    "            break\n",
    "        writer.writerow([row[0], row[1], row[2], row[3], r])\n",
    "    "
   ]
  },
  {
   "cell_type": "code",
   "execution_count": 79,
   "metadata": {},
   "outputs": [],
   "source": [
    "#testing if you can loop through a reader multiple times\n",
    "file_read = open(\"data/students_with_house.csv\", \"r\")\n",
    "reader = csv.reader(file_read)\n",
    "\n",
    "\n",
    "for row in reader:\n",
    "    i = 1\n",
    "for row in reader:\n",
    "    print(row)"
   ]
  },
  {
   "cell_type": "code",
   "execution_count": null,
   "metadata": {},
   "outputs": [],
   "source": []
  }
 ],
 "metadata": {
  "kernelspec": {
   "display_name": "Python 3 (ipykernel)",
   "language": "python",
   "name": "python3"
  },
  "language_info": {
   "codemirror_mode": {
    "name": "ipython",
    "version": 3
   },
   "file_extension": ".py",
   "mimetype": "text/x-python",
   "name": "python",
   "nbconvert_exporter": "python",
   "pygments_lexer": "ipython3",
   "version": "3.10.5"
  }
 },
 "nbformat": 4,
 "nbformat_minor": 4
}
